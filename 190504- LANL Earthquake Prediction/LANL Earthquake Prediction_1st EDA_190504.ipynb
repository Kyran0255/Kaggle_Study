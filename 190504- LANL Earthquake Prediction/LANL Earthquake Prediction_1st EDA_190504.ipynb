{
 "cells": [
  {
   "cell_type": "markdown",
   "metadata": {},
   "source": [
    "## LANL Earthquake Prediction_1st EDA_190504\n",
    "\n",
    "- 목표: 지진 신호를 사용하여 실험실 지진의 타이밍을 예측\n",
    "\n",
    "- data information: \n",
    "    - Input: 음향_데이터 신호는\n",
    "    - output: 다음 실험실 지진(time_to_failure) 전까지 남은 시간 예측\n",
    "\n",
    "- train: 실험 데이터의 연속 단일 세그먼트다. \n",
    "- test: 테스트 데이터는 많은 작은 세그먼트를 포함하는 폴더로 구성된다. 각 시험 파일 내의 데이터는 연속적이지만, 시험 파일은 실험의 연속적인 부분을 나타내지 않는다. 따라서 예측은 훈련 파일에서 보이는 것과 동일한 정규 패턴을 따른다고 가정할 수 없다.\n",
    "\n",
    "테스트 폴더의 각 seg_id에 대해 세그먼트의 마지막 행과 다음 실험실 지진 사이의 시간에 해당하는 단일 time_to_failure를 예측해야 한다.\n",
    "\n",
    "- 파일 설명\n",
    "train.csv - 실험 데이터의 연속 단일 교육 세그먼트.\n",
    "test - 많은 작은 테스트 데이터를 포함하는 폴더.\n",
    "sample_sumbission.csv - 올바른 형식의 샘플 제출 파일.\n",
    "\n",
    "- 데이터 필드\n",
    "음향_데이터 - 지진 신호 [int16]\n",
    "time_to_failure - 다음 실험실 지진까지의 시간(초)\n",
    "seg_id - 예측해야 하는 테스트 세그먼트 ID(세그먼트당 하나의 예측)\n"
   ]
  },
  {
   "cell_type": "code",
   "execution_count": 13,
   "metadata": {},
   "outputs": [],
   "source": [
    "import os\n",
    "from os import chdir\n",
    "import sys\n",
    "import pandas as pd\n",
    "\n",
    "chdir('C:/Users/lady1/Desktop/Career/대내외활동/2019/190504- LANL Earthquake Prediction/Data/train')"
   ]
  },
  {
   "cell_type": "code",
   "execution_count": null,
   "metadata": {
    "scrolled": true
   },
   "outputs": [],
   "source": [
    "data = pd.read_csv('train.csv')"
   ]
  }
 ],
 "metadata": {
  "kernelspec": {
   "display_name": "Python 3",
   "language": "python",
   "name": "python3"
  },
  "language_info": {
   "codemirror_mode": {
    "name": "ipython",
    "version": 3
   },
   "file_extension": ".py",
   "mimetype": "text/x-python",
   "name": "python",
   "nbconvert_exporter": "python",
   "pygments_lexer": "ipython3",
   "version": "3.7.1"
  }
 },
 "nbformat": 4,
 "nbformat_minor": 2
}
